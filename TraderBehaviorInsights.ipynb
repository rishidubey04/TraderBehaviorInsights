{
 "cells": [
  {
   "cell_type": "code",
   "execution_count": 1,
   "id": "396658a9-3258-4ed0-ba89-53c7fbe5e5ce",
   "metadata": {},
   "outputs": [],
   "source": [
    "import pandas as pd\n",
    "\n",
    "# Load the trader dataset\n",
    "trader_df = pd.read_csv(\"D:/studies/fear_greed_index - fear_greed_index.csv\")  # update the path\n",
    "\n",
    "# Load the market sentiment dataset\n",
    "sentiment_df = pd.read_csv(\"D:/studies/historical_data - historical_data.csv\")  # update the path\n"
   ]
  },
  {
   "cell_type": "code",
   "execution_count": 11,
   "id": "6843054b-4dab-4b9d-ae5b-ef1c0900163b",
   "metadata": {},
   "outputs": [
    {
     "data": {
      "text/html": [
       "<div>\n",
       "<style scoped>\n",
       "    .dataframe tbody tr th:only-of-type {\n",
       "        vertical-align: middle;\n",
       "    }\n",
       "\n",
       "    .dataframe tbody tr th {\n",
       "        vertical-align: top;\n",
       "    }\n",
       "\n",
       "    .dataframe thead th {\n",
       "        text-align: right;\n",
       "    }\n",
       "</style>\n",
       "<table border=\"1\" class=\"dataframe\">\n",
       "  <thead>\n",
       "    <tr style=\"text-align: right;\">\n",
       "      <th></th>\n",
       "      <th>timestamp</th>\n",
       "      <th>value</th>\n",
       "      <th>classification</th>\n",
       "      <th>date</th>\n",
       "    </tr>\n",
       "  </thead>\n",
       "  <tbody>\n",
       "    <tr>\n",
       "      <th>0</th>\n",
       "      <td>1517463000</td>\n",
       "      <td>30</td>\n",
       "      <td>Fear</td>\n",
       "      <td>2018-02-01</td>\n",
       "    </tr>\n",
       "    <tr>\n",
       "      <th>1</th>\n",
       "      <td>1517549400</td>\n",
       "      <td>15</td>\n",
       "      <td>Extreme Fear</td>\n",
       "      <td>2018-02-02</td>\n",
       "    </tr>\n",
       "    <tr>\n",
       "      <th>2</th>\n",
       "      <td>1517635800</td>\n",
       "      <td>40</td>\n",
       "      <td>Fear</td>\n",
       "      <td>2018-02-03</td>\n",
       "    </tr>\n",
       "    <tr>\n",
       "      <th>3</th>\n",
       "      <td>1517722200</td>\n",
       "      <td>24</td>\n",
       "      <td>Extreme Fear</td>\n",
       "      <td>2018-02-04</td>\n",
       "    </tr>\n",
       "    <tr>\n",
       "      <th>4</th>\n",
       "      <td>1517808600</td>\n",
       "      <td>11</td>\n",
       "      <td>Extreme Fear</td>\n",
       "      <td>2018-02-05</td>\n",
       "    </tr>\n",
       "  </tbody>\n",
       "</table>\n",
       "</div>"
      ],
      "text/plain": [
       "    timestamp  value classification        date\n",
       "0  1517463000     30           Fear  2018-02-01\n",
       "1  1517549400     15   Extreme Fear  2018-02-02\n",
       "2  1517635800     40           Fear  2018-02-03\n",
       "3  1517722200     24   Extreme Fear  2018-02-04\n",
       "4  1517808600     11   Extreme Fear  2018-02-05"
      ]
     },
     "execution_count": 11,
     "metadata": {},
     "output_type": "execute_result"
    }
   ],
   "source": [
    "trader_df.head()"
   ]
  },
  {
   "cell_type": "code",
   "execution_count": 13,
   "id": "7f2b8e72-b6b7-4e93-915b-d1bb8ecafbda",
   "metadata": {},
   "outputs": [
    {
     "data": {
      "text/html": [
       "<div>\n",
       "<style scoped>\n",
       "    .dataframe tbody tr th:only-of-type {\n",
       "        vertical-align: middle;\n",
       "    }\n",
       "\n",
       "    .dataframe tbody tr th {\n",
       "        vertical-align: top;\n",
       "    }\n",
       "\n",
       "    .dataframe thead th {\n",
       "        text-align: right;\n",
       "    }\n",
       "</style>\n",
       "<table border=\"1\" class=\"dataframe\">\n",
       "  <thead>\n",
       "    <tr style=\"text-align: right;\">\n",
       "      <th></th>\n",
       "      <th>Account</th>\n",
       "      <th>Coin</th>\n",
       "      <th>Execution Price</th>\n",
       "      <th>Size Tokens</th>\n",
       "      <th>Size USD</th>\n",
       "      <th>Side</th>\n",
       "      <th>Timestamp IST</th>\n",
       "      <th>Start Position</th>\n",
       "      <th>Direction</th>\n",
       "      <th>Closed PnL</th>\n",
       "      <th>Transaction Hash</th>\n",
       "      <th>Order ID</th>\n",
       "      <th>Crossed</th>\n",
       "      <th>Fee</th>\n",
       "      <th>Trade ID</th>\n",
       "      <th>Timestamp</th>\n",
       "    </tr>\n",
       "  </thead>\n",
       "  <tbody>\n",
       "    <tr>\n",
       "      <th>0</th>\n",
       "      <td>0xae5eacaf9c6b9111fd53034a602c192a04e082ed</td>\n",
       "      <td>@107</td>\n",
       "      <td>7.9769</td>\n",
       "      <td>986.87</td>\n",
       "      <td>7872.16</td>\n",
       "      <td>BUY</td>\n",
       "      <td>02-12-2024 22:50</td>\n",
       "      <td>0.000000</td>\n",
       "      <td>Buy</td>\n",
       "      <td>0.0</td>\n",
       "      <td>0xec09451986a1874e3a980418412fcd0201f500c95bac...</td>\n",
       "      <td>52017706630</td>\n",
       "      <td>True</td>\n",
       "      <td>0.345404</td>\n",
       "      <td>8.950000e+14</td>\n",
       "      <td>1.730000e+12</td>\n",
       "    </tr>\n",
       "    <tr>\n",
       "      <th>1</th>\n",
       "      <td>0xae5eacaf9c6b9111fd53034a602c192a04e082ed</td>\n",
       "      <td>@107</td>\n",
       "      <td>7.9800</td>\n",
       "      <td>16.00</td>\n",
       "      <td>127.68</td>\n",
       "      <td>BUY</td>\n",
       "      <td>02-12-2024 22:50</td>\n",
       "      <td>986.524596</td>\n",
       "      <td>Buy</td>\n",
       "      <td>0.0</td>\n",
       "      <td>0xec09451986a1874e3a980418412fcd0201f500c95bac...</td>\n",
       "      <td>52017706630</td>\n",
       "      <td>True</td>\n",
       "      <td>0.005600</td>\n",
       "      <td>4.430000e+14</td>\n",
       "      <td>1.730000e+12</td>\n",
       "    </tr>\n",
       "    <tr>\n",
       "      <th>2</th>\n",
       "      <td>0xae5eacaf9c6b9111fd53034a602c192a04e082ed</td>\n",
       "      <td>@107</td>\n",
       "      <td>7.9855</td>\n",
       "      <td>144.09</td>\n",
       "      <td>1150.63</td>\n",
       "      <td>BUY</td>\n",
       "      <td>02-12-2024 22:50</td>\n",
       "      <td>1002.518996</td>\n",
       "      <td>Buy</td>\n",
       "      <td>0.0</td>\n",
       "      <td>0xec09451986a1874e3a980418412fcd0201f500c95bac...</td>\n",
       "      <td>52017706630</td>\n",
       "      <td>True</td>\n",
       "      <td>0.050431</td>\n",
       "      <td>6.600000e+14</td>\n",
       "      <td>1.730000e+12</td>\n",
       "    </tr>\n",
       "    <tr>\n",
       "      <th>3</th>\n",
       "      <td>0xae5eacaf9c6b9111fd53034a602c192a04e082ed</td>\n",
       "      <td>@107</td>\n",
       "      <td>7.9874</td>\n",
       "      <td>142.98</td>\n",
       "      <td>1142.04</td>\n",
       "      <td>BUY</td>\n",
       "      <td>02-12-2024 22:50</td>\n",
       "      <td>1146.558564</td>\n",
       "      <td>Buy</td>\n",
       "      <td>0.0</td>\n",
       "      <td>0xec09451986a1874e3a980418412fcd0201f500c95bac...</td>\n",
       "      <td>52017706630</td>\n",
       "      <td>True</td>\n",
       "      <td>0.050043</td>\n",
       "      <td>1.080000e+15</td>\n",
       "      <td>1.730000e+12</td>\n",
       "    </tr>\n",
       "    <tr>\n",
       "      <th>4</th>\n",
       "      <td>0xae5eacaf9c6b9111fd53034a602c192a04e082ed</td>\n",
       "      <td>@107</td>\n",
       "      <td>7.9894</td>\n",
       "      <td>8.73</td>\n",
       "      <td>69.75</td>\n",
       "      <td>BUY</td>\n",
       "      <td>02-12-2024 22:50</td>\n",
       "      <td>1289.488521</td>\n",
       "      <td>Buy</td>\n",
       "      <td>0.0</td>\n",
       "      <td>0xec09451986a1874e3a980418412fcd0201f500c95bac...</td>\n",
       "      <td>52017706630</td>\n",
       "      <td>True</td>\n",
       "      <td>0.003055</td>\n",
       "      <td>1.050000e+15</td>\n",
       "      <td>1.730000e+12</td>\n",
       "    </tr>\n",
       "  </tbody>\n",
       "</table>\n",
       "</div>"
      ],
      "text/plain": [
       "                                      Account  Coin  Execution Price  \\\n",
       "0  0xae5eacaf9c6b9111fd53034a602c192a04e082ed  @107           7.9769   \n",
       "1  0xae5eacaf9c6b9111fd53034a602c192a04e082ed  @107           7.9800   \n",
       "2  0xae5eacaf9c6b9111fd53034a602c192a04e082ed  @107           7.9855   \n",
       "3  0xae5eacaf9c6b9111fd53034a602c192a04e082ed  @107           7.9874   \n",
       "4  0xae5eacaf9c6b9111fd53034a602c192a04e082ed  @107           7.9894   \n",
       "\n",
       "   Size Tokens  Size USD Side     Timestamp IST  Start Position Direction  \\\n",
       "0       986.87   7872.16  BUY  02-12-2024 22:50        0.000000       Buy   \n",
       "1        16.00    127.68  BUY  02-12-2024 22:50      986.524596       Buy   \n",
       "2       144.09   1150.63  BUY  02-12-2024 22:50     1002.518996       Buy   \n",
       "3       142.98   1142.04  BUY  02-12-2024 22:50     1146.558564       Buy   \n",
       "4         8.73     69.75  BUY  02-12-2024 22:50     1289.488521       Buy   \n",
       "\n",
       "   Closed PnL                                   Transaction Hash     Order ID  \\\n",
       "0         0.0  0xec09451986a1874e3a980418412fcd0201f500c95bac...  52017706630   \n",
       "1         0.0  0xec09451986a1874e3a980418412fcd0201f500c95bac...  52017706630   \n",
       "2         0.0  0xec09451986a1874e3a980418412fcd0201f500c95bac...  52017706630   \n",
       "3         0.0  0xec09451986a1874e3a980418412fcd0201f500c95bac...  52017706630   \n",
       "4         0.0  0xec09451986a1874e3a980418412fcd0201f500c95bac...  52017706630   \n",
       "\n",
       "   Crossed       Fee      Trade ID     Timestamp  \n",
       "0     True  0.345404  8.950000e+14  1.730000e+12  \n",
       "1     True  0.005600  4.430000e+14  1.730000e+12  \n",
       "2     True  0.050431  6.600000e+14  1.730000e+12  \n",
       "3     True  0.050043  1.080000e+15  1.730000e+12  \n",
       "4     True  0.003055  1.050000e+15  1.730000e+12  "
      ]
     },
     "execution_count": 13,
     "metadata": {},
     "output_type": "execute_result"
    }
   ],
   "source": [
    "sentiment_df.head()"
   ]
  },
  {
   "cell_type": "code",
   "execution_count": 17,
   "id": "6b59754a-48d7-467f-a280-12804841f94d",
   "metadata": {},
   "outputs": [],
   "source": [
    "# Convert 'Timestamp IST' or 'Timestamp' to date (choose one based on your data)\n",
    "sentiment_df['Timestamp IST'] = pd.to_datetime(sentiment_df['Timestamp IST'], format='%d-%m-%Y %H:%M')\n",
    "sentiment_df['trade_date'] = sentiment_df['Timestamp IST'].dt.date\n",
    "\n",
    "# Make sure trader_df['date'] is date only (not datetime), already parsed above\n",
    "trader_df['date'] = pd.to_datetime(trader_df['date']).dt.date\n"
   ]
  },
  {
   "cell_type": "code",
   "execution_count": 19,
   "id": "dad8681c-e7e7-4795-a216-fd76c6c7f3b0",
   "metadata": {},
   "outputs": [
    {
     "name": "stdout",
     "output_type": "stream",
     "text": [
      "   trade_date classification  Closed PnL Side  \\\n",
      "0  2024-12-02  Extreme Greed         0.0  BUY   \n",
      "1  2024-12-02  Extreme Greed         0.0  BUY   \n",
      "2  2024-12-02  Extreme Greed         0.0  BUY   \n",
      "3  2024-12-02  Extreme Greed         0.0  BUY   \n",
      "4  2024-12-02  Extreme Greed         0.0  BUY   \n",
      "\n",
      "                                      Account  \n",
      "0  0xae5eacaf9c6b9111fd53034a602c192a04e082ed  \n",
      "1  0xae5eacaf9c6b9111fd53034a602c192a04e082ed  \n",
      "2  0xae5eacaf9c6b9111fd53034a602c192a04e082ed  \n",
      "3  0xae5eacaf9c6b9111fd53034a602c192a04e082ed  \n",
      "4  0xae5eacaf9c6b9111fd53034a602c192a04e082ed  \n"
     ]
    }
   ],
   "source": [
    "# Merge on date\n",
    "merged_df = pd.merge(sentiment_df, trader_df, left_on='trade_date', right_on='date', how='inner')\n",
    "\n",
    "# Quick look\n",
    "print(merged_df[['trade_date', 'classification', 'Closed PnL', 'Side', 'Account']].head())\n"
   ]
  },
  {
   "cell_type": "code",
   "execution_count": 21,
   "id": "15337be9-010e-4649-a4d0-c92c4cde4433",
   "metadata": {},
   "outputs": [
    {
     "name": "stdout",
     "output_type": "stream",
     "text": [
      "classification\n",
      "Extreme Fear     34.537862\n",
      "Extreme Greed    67.892861\n",
      "Fear             54.290400\n",
      "Greed            42.743559\n",
      "Neutral          34.307718\n",
      "Name: Closed PnL, dtype: float64\n"
     ]
    }
   ],
   "source": [
    "# Group by sentiment and calculate average Closed PnL\n",
    "performance_by_classification = merged_df.groupby('classification')['Closed PnL'].mean()\n",
    "print(performance_by_classification)\n"
   ]
  },
  {
   "cell_type": "code",
   "execution_count": 23,
   "id": "ee45a093-24dd-4749-9193-378471c31382",
   "metadata": {},
   "outputs": [
    {
     "data": {
      "image/png": "[encoded data removed]",
      "text/plain": [
       "<Figure size 640x480 with 1 Axes>"
      ]
     },
     "metadata": {},
     "output_type": "display_data"
    }
   ],
   "source": [
    "import seaborn as sns\n",
    "import matplotlib.pyplot as plt\n",
    "\n",
    "sns.boxplot(x='classification', y='Closed PnL', data=merged_df)\n",
    "plt.title('Trader Performance by Market Sentiment')\n",
    "plt.show()\n"
   ]
  },
  {
   "cell_type": "code",
   "execution_count": 25,
   "id": "34c2d3c8-450b-4a4e-ab03-70b35381d76d",
   "metadata": {},
   "outputs": [
    {
     "name": "stdout",
     "output_type": "stream",
     "text": [
      "classification\n",
      "Extreme Fear     1.116291\n",
      "Extreme Greed    0.675902\n",
      "Fear             1.495172\n",
      "Greed            1.254372\n",
      "Neutral          1.044798\n",
      "Name: Fee, dtype: float64\n",
      "Side              BUY   SELL\n",
      "classification              \n",
      "Extreme Fear    10935  10465\n",
      "Extreme Greed   17940  22052\n",
      "Fear            30270  31567\n",
      "Greed           24576  25727\n",
      "Neutral         18969  18717\n"
     ]
    }
   ],
   "source": [
    "# Average fee by market sentiment\n",
    "fee_by_sentiment = merged_df.groupby('classification')['Fee'].mean()\n",
    "print(fee_by_sentiment)\n",
    "\n",
    "# Trades side distribution\n",
    "trade_side_dist = merged_df.groupby(['classification', 'Side']).size().unstack(fill_value=0)\n",
    "print(trade_side_dist)\n"
   ]
  },
  {
   "cell_type": "code",
   "execution_count": 27,
   "id": "e8397dd0-b61a-4f61-beb5-818d1046c3c7",
   "metadata": {},
   "outputs": [
    {
     "name": "stdout",
     "output_type": "stream",
     "text": [
      "classification\n",
      "Extreme Fear     1136.056091\n",
      "Extreme Greed     766.828294\n",
      "Fear              935.355438\n",
      "Greed            1116.028390\n",
      "Neutral           517.122220\n",
      "Name: Closed PnL, dtype: float64\n"
     ]
    }
   ],
   "source": [
    "performance_volatility = merged_df.groupby('classification')['Closed PnL'].std()\n",
    "print(performance_volatility)\n"
   ]
  },
  {
   "cell_type": "code",
   "execution_count": 29,
   "id": "b1fc007d-059a-4895-a8bf-ab8fded8f117",
   "metadata": {},
   "outputs": [
    {
     "name": "stdout",
     "output_type": "stream",
     "text": [
      "classification                              Extreme Fear  Extreme Greed  \\\n",
      "Account                                                                   \n",
      "0x083384f897ee0f19899168e3b1bec365f52a9012   1247.692214     -42.626810   \n",
      "0x23e7a7f8d14b550961925fbfdaa92f5d195ba5bd    -24.912665      43.222903   \n",
      "0x271b280974205ca63b716753467d5a371de622ab     20.962214     358.632043   \n",
      "0x28736f43f1e871e6aa8b1148d38d4994275d72c4    -44.714307      14.437904   \n",
      "0x2c229d22b100a7beb69122eed721cee9b24011dd    101.921855      61.498681   \n",
      "0x3998f134d6aaa2b6a5f723806d00fd2bbbbce891   -216.607703     192.498023   \n",
      "0x39cef799f8b69da1995852eea189df24eb5cae3c    -45.671160     125.272912   \n",
      "0x3f9a0aadc7f04a7c9d75dc1b5a6ddd6e36486cf6      5.818598     178.981335   \n",
      "0x420ab45e0bd8863569a5efbb9c05d91f40624641    155.099710      37.218691   \n",
      "0x430f09841d65beb3f27765503d0f850b8bce7713      0.000000    8285.663252   \n",
      "0x47add9a56df66b524d5e2c1993a43cde53b6ed85    -37.154584      21.357444   \n",
      "0x4acb90e786d897ecffb614dc822eb231b4ffb9f4    169.063285     122.730863   \n",
      "0x4f93fead39b70a1824f981a54d4e55b278e9f760    200.395004      52.828163   \n",
      "0x513b8629fe877bb581bf244e326a047b249c4ff1   -205.554395       0.000000   \n",
      "0x6d6a4b953f202f8df5bed40692e7fd865318264a     14.246564     428.023843   \n",
      "0x72743ae2822edd658c0c50608fd7c5c501b2afbd     66.758350       0.000000   \n",
      "0x72c6a4624e1dffa724e6d00d64ceae698af892a0    900.002541       2.526807   \n",
      "0x75f7eeb85dc639d5e99c78f95393aa9a5f1170d4     81.243158      55.005705   \n",
      "0x7f4f299f74eec87806a830e3caa9afa5f2b9db8f      3.906451     420.277529   \n",
      "0x8170715b3b381dffb7062c0298972d4727a0a63b     79.959076    -195.264421   \n",
      "0x8381e6d82f1affd39a336e143e081ef7620a3b7f    -98.479518       0.146471   \n",
      "0x8477e447846c758f5a675856001ea72298fd9cb5      3.291855      14.067088   \n",
      "0x92f17e8d81a944691c10e753af1b1baae1a2cd0d     50.381779      41.007279   \n",
      "0xa0feb3725a9335f49874d7cd8eaad6be45b27416      3.745403      13.666356   \n",
      "0xa520ded057a32086c40e7dd6ed4eb8efb82c00e0   -192.209701     181.294012   \n",
      "0xae5eacaf9c6b9111fd53034a602c192a04e082ed      7.780135     110.134280   \n",
      "0xaf40fdc468c30116bd3307bcbf4a451a7ebf1deb      0.000000       3.048948   \n",
      "0xb1231a4a2dd02f2276fa3c5e2a2f3436e6bfed23     12.915976     672.735763   \n",
      "0xb899e522b5715391ae1d4f137653e7906c5e2115    -21.066460            NaN   \n",
      "0xbaaaf6571ab7d571043ff1e313a9609a10637864     58.463834            NaN   \n",
      "0xbd5fead7180a9c139fa51a103cb6a2ce86ddb5c3     97.448381      19.526324   \n",
      "0xbee1707d6b44d4d52bfe19e41f8a828645437aab      6.059085      71.219912   \n",
      "\n",
      "classification                                     Fear       Greed  \\\n",
      "Account                                                               \n",
      "0x083384f897ee0f19899168e3b1bec365f52a9012   626.194346  482.089321   \n",
      "0x23e7a7f8d14b550961925fbfdaa92f5d195ba5bd    -0.632623   10.211823   \n",
      "0x271b280974205ca63b716753467d5a371de622ab    16.125220 -185.221864   \n",
      "0x28736f43f1e871e6aa8b1148d38d4994275d72c4     9.594371   10.502556   \n",
      "0x2c229d22b100a7beb69122eed721cee9b24011dd    10.444070   79.350486   \n",
      "0x3998f134d6aaa2b6a5f723806d00fd2bbbbce891    -1.824449  -34.627353   \n",
      "0x39cef799f8b69da1995852eea189df24eb5cae3c    37.175405  168.123179   \n",
      "0x3f9a0aadc7f04a7c9d75dc1b5a6ddd6e36486cf6    53.880498  163.069861   \n",
      "0x420ab45e0bd8863569a5efbb9c05d91f40624641  1016.819167  177.690441   \n",
      "0x430f09841d65beb3f27765503d0f850b8bce7713    23.692203  294.922917   \n",
      "0x47add9a56df66b524d5e2c1993a43cde53b6ed85    10.821953   10.761178   \n",
      "0x4acb90e786d897ecffb614dc822eb231b4ffb9f4   212.594357   84.927562   \n",
      "0x4f93fead39b70a1824f981a54d4e55b278e9f760   -16.545119   33.857528   \n",
      "0x513b8629fe877bb581bf244e326a047b249c4ff1    61.388767   51.450825   \n",
      "0x6d6a4b953f202f8df5bed40692e7fd865318264a     5.683451  125.325316   \n",
      "0x72743ae2822edd658c0c50608fd7c5c501b2afbd  -187.201776  764.916220   \n",
      "0x72c6a4624e1dffa724e6d00d64ceae698af892a0   335.300103   43.192043   \n",
      "0x75f7eeb85dc639d5e99c78f95393aa9a5f1170d4    29.666031   36.645300   \n",
      "0x7f4f299f74eec87806a830e3caa9afa5f2b9db8f     7.420133   81.630024   \n",
      "0x8170715b3b381dffb7062c0298972d4727a0a63b    86.700707 -217.847488   \n",
      "0x8381e6d82f1affd39a336e143e081ef7620a3b7f     4.698461  192.285897   \n",
      "0x8477e447846c758f5a675856001ea72298fd9cb5     6.309013   -3.532707   \n",
      "0x92f17e8d81a944691c10e753af1b1baae1a2cd0d    -3.254163   50.253754   \n",
      "0xa0feb3725a9335f49874d7cd8eaad6be45b27416     5.565606    8.529496   \n",
      "0xa520ded057a32086c40e7dd6ed4eb8efb82c00e0  -379.998039  408.979729   \n",
      "0xae5eacaf9c6b9111fd53034a602c192a04e082ed    66.092200  224.519734   \n",
      "0xaf40fdc468c30116bd3307bcbf4a451a7ebf1deb    31.961984    8.640100   \n",
      "0xb1231a4a2dd02f2276fa3c5e2a2f3436e6bfed23    31.003381   90.687423   \n",
      "0xb899e522b5715391ae1d4f137653e7906c5e2115    17.540671         NaN   \n",
      "0xbaaaf6571ab7d571043ff1e313a9609a10637864    49.921394    0.934492   \n",
      "0xbd5fead7180a9c139fa51a103cb6a2ce86ddb5c3   200.506120   86.452011   \n",
      "0xbee1707d6b44d4d52bfe19e41f8a828645437aab     4.339105   33.169735   \n",
      "\n",
      "classification                                  Neutral  \n",
      "Account                                                  \n",
      "0x083384f897ee0f19899168e3b1bec365f52a9012   298.456334  \n",
      "0x23e7a7f8d14b550961925fbfdaa92f5d195ba5bd   -16.573722  \n",
      "0x271b280974205ca63b716753467d5a371de622ab   -31.783540  \n",
      "0x28736f43f1e871e6aa8b1148d38d4994275d72c4     6.207158  \n",
      "0x2c229d22b100a7beb69122eed721cee9b24011dd    41.667826  \n",
      "0x3998f134d6aaa2b6a5f723806d00fd2bbbbce891   -37.239609  \n",
      "0x39cef799f8b69da1995852eea189df24eb5cae3c    40.269294  \n",
      "0x3f9a0aadc7f04a7c9d75dc1b5a6ddd6e36486cf6  4009.581548  \n",
      "0x420ab45e0bd8863569a5efbb9c05d91f40624641  1547.784656  \n",
      "0x430f09841d65beb3f27765503d0f850b8bce7713   440.010296  \n",
      "0x47add9a56df66b524d5e2c1993a43cde53b6ed85     6.142137  \n",
      "0x4acb90e786d897ecffb614dc822eb231b4ffb9f4   144.910850  \n",
      "0x4f93fead39b70a1824f981a54d4e55b278e9f760    35.641600  \n",
      "0x513b8629fe877bb581bf244e326a047b249c4ff1   151.501984  \n",
      "0x6d6a4b953f202f8df5bed40692e7fd865318264a    20.624933  \n",
      "0x72743ae2822edd658c0c50608fd7c5c501b2afbd     0.000000  \n",
      "0x72c6a4624e1dffa724e6d00d64ceae698af892a0   -79.415763  \n",
      "0x75f7eeb85dc639d5e99c78f95393aa9a5f1170d4    -1.780025  \n",
      "0x7f4f299f74eec87806a830e3caa9afa5f2b9db8f    -3.798615  \n",
      "0x8170715b3b381dffb7062c0298972d4727a0a63b    50.328183  \n",
      "0x8381e6d82f1affd39a336e143e081ef7620a3b7f     9.063014  \n",
      "0x8477e447846c758f5a675856001ea72298fd9cb5     0.368265  \n",
      "0x92f17e8d81a944691c10e753af1b1baae1a2cd0d     0.000000  \n",
      "0xa0feb3725a9335f49874d7cd8eaad6be45b27416     1.753477  \n",
      "0xa520ded057a32086c40e7dd6ed4eb8efb82c00e0   -13.407838  \n",
      "0xae5eacaf9c6b9111fd53034a602c192a04e082ed          NaN  \n",
      "0xaf40fdc468c30116bd3307bcbf4a451a7ebf1deb   137.647761  \n",
      "0xb1231a4a2dd02f2276fa3c5e2a2f3436e6bfed23   116.086038  \n",
      "0xb899e522b5715391ae1d4f137653e7906c5e2115    12.796016  \n",
      "0xbaaaf6571ab7d571043ff1e313a9609a10637864    13.435312  \n",
      "0xbd5fead7180a9c139fa51a103cb6a2ce86ddb5c3  -218.650251  \n",
      "0xbee1707d6b44d4d52bfe19e41f8a828645437aab     3.330061  \n"
     ]
    }
   ],
   "source": [
    "account_sentiment_pnl = merged_df.groupby(['Account', 'classification'])['Closed PnL'].mean().unstack()\n",
    "print(account_sentiment_pnl)\n"
   ]
  },
  {
   "cell_type": "code",
   "execution_count": 37,
   "id": "a6b419cf-6aad-4bf8-9fb7-e1a33a3e9530",
   "metadata": {},
   "outputs": [
    {
     "name": "stdout",
     "output_type": "stream",
     "text": [
      "hour                    0           1           2          3           4   \\\n",
      "classification                                                              \n",
      "Extreme Fear    -44.893300  213.605383   40.727960   2.348132   44.869514   \n",
      "Extreme Greed    21.762856   45.353520   29.624855  82.805247  125.732361   \n",
      "Fear             52.761709   88.826986  105.273416  62.977295   12.430125   \n",
      "Greed            17.191392   12.005437   18.603290   5.551280   19.383163   \n",
      "Neutral         134.571682   -6.661192  -18.546371  68.930573   88.725600   \n",
      "\n",
      "hour                   5          6           7           8          9   ...  \\\n",
      "classification                                                           ...   \n",
      "Extreme Fear     1.094749  19.558491   66.435572  231.370299  83.017208  ...   \n",
      "Extreme Greed   51.746066  76.552348   17.537817   65.015915  96.167294  ...   \n",
      "Fear            42.032502  32.297894  142.580359   61.771588  28.565835  ...   \n",
      "Greed           35.290038  21.126915   46.768159   38.261023  38.746634  ...   \n",
      "Neutral         61.295169  23.451298   52.765054  -11.254737  24.217742  ...   \n",
      "\n",
      "hour                   14          15         16         17         18  \\\n",
      "classification                                                           \n",
      "Extreme Fear    57.777736   46.221120  15.797219  40.804222  75.591568   \n",
      "Extreme Greed   34.011424  177.605961  82.866184  56.956356  38.489761   \n",
      "Fear            10.632951   27.921793  44.863913  30.656525  75.500998   \n",
      "Greed            9.808051   22.343696  12.319011  14.276814  39.079401   \n",
      "Neutral         41.152106    9.789742  50.467017  29.855230  12.325587   \n",
      "\n",
      "hour                    19          20         21         22         23  \n",
      "classification                                                           \n",
      "Extreme Fear     27.342152   12.316152 -16.082917 -18.709688  -7.576062  \n",
      "Extreme Greed    52.901667   33.516979  89.899451  30.313651  57.734888  \n",
      "Fear             37.231387   21.157362  42.652445  23.803406  20.265640  \n",
      "Greed           139.477645  163.474976 -27.565927  86.558526 -35.560661  \n",
      "Neutral          16.914240    5.642353  82.374342  20.363535  72.013089  \n",
      "\n",
      "[5 rows x 24 columns]\n"
     ]
    }
   ],
   "source": [
    "merged_df['hour'] = pd.to_datetime(merged_df['Timestamp IST']).dt.hour\n",
    "hourly_pattern = merged_df.groupby(['classification', 'hour'])['Closed PnL'].mean().unstack()\n",
    "print(hourly_pattern)\n"
   ]
  },
  {
   "cell_type": "code",
   "execution_count": 39,
   "id": "886ddba5-ca9e-4724-b54f-43a374033373",
   "metadata": {},
   "outputs": [
    {
     "name": "stdout",
     "output_type": "stream",
     "text": [
      "               value  Closed PnL\n",
      "value       1.000000    0.008121\n",
      "Closed PnL  0.008121    1.000000\n"
     ]
    }
   ],
   "source": [
    "correlation = merged_df[['value', 'Closed PnL']].corr()\n",
    "print(correlation)\n"
   ]
  },
  {
   "cell_type": "code",
   "execution_count": 41,
   "id": "0ced9390-384e-42c0-ac09-1579a1a3c42f",
   "metadata": {},
   "outputs": [
    {
     "name": "stdout",
     "output_type": "stream",
     "text": [
      "classification\n",
      "Extreme Fear     0.370607\n",
      "Extreme Greed    0.464943\n",
      "Fear             0.420768\n",
      "Greed            0.384828\n",
      "Neutral          0.396991\n",
      "Name: win, dtype: float64\n"
     ]
    }
   ],
   "source": [
    "merged_df['win'] = merged_df['Closed PnL'] > 0\n",
    "win_rate = merged_df.groupby('classification')['win'].mean()\n",
    "print(win_rate)\n"
   ]
  },
  {
   "cell_type": "code",
   "execution_count": null,
   "id": "36f3b90a-b0d9-4246-ab7c-08fc4eb4d7a7",
   "metadata": {},
   "outputs": [],
   "source": [
    " "
   ]
  }
 ],
 "metadata": {
  "kernelspec": {
   "display_name": "Python 3 (ipykernel)",
   "language": "python",
   "name": "python3"
  },
  "language_info": {
   "codemirror_mode": {
    "name": "ipython",
    "version": 3
   },
   "file_extension": ".py",
   "mimetype": "text/x-python",
   "name": "python",
   "nbconvert_exporter": "python",
   "pygments_lexer": "ipython3",
   "version": "3.12.4"
  }
 },
 "nbformat": 4,
 "nbformat_minor": 5
}
